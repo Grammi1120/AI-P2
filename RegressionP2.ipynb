{
 "cells": [
  {
   "attachments": {},
   "cell_type": "markdown",
   "metadata": {},
   "source": [
    "Load libraries"
   ]
  },
  {
   "cell_type": "code",
   "execution_count": 1,
   "metadata": {},
   "outputs": [],
   "source": [
    "import torch\n",
    "import numpy as np\n",
    "import matplotlib.pyplot as plt\n",
    "import torchvision\n",
    "import torchvision.transforms as transforms\n",
    "import pandas as pd"
   ]
  },
  {
   "attachments": {},
   "cell_type": "markdown",
   "metadata": {},
   "source": [
    "Load data"
   ]
  },
  {
   "cell_type": "code",
   "execution_count": 2,
   "metadata": {},
   "outputs": [],
   "source": [
    "url = 'http://archive.ics.uci.edu/ml/machine-learning-databases/auto-mpg/auto-mpg.data'\n",
    "column_names = ['MPG', 'Cylinders', 'Displacement', 'Horsepower', 'Weight',\n",
    "                'Acceleration', 'Model Year', 'Origin']\n",
    "\n",
    "raw_dataset = pd.read_csv(url, names=column_names,\n",
    "                          na_values='?', comment='\\t',\n",
    "                          sep=' ', skipinitialspace=True)"
   ]
  },
  {
   "attachments": {},
   "cell_type": "markdown",
   "metadata": {},
   "source": [
    "Show Example"
   ]
  },
  {
   "cell_type": "code",
   "execution_count": 3,
   "metadata": {},
   "outputs": [
    {
     "data": {
      "text/html": [
       "<div>\n",
       "<style scoped>\n",
       "    .dataframe tbody tr th:only-of-type {\n",
       "        vertical-align: middle;\n",
       "    }\n",
       "\n",
       "    .dataframe tbody tr th {\n",
       "        vertical-align: top;\n",
       "    }\n",
       "\n",
       "    .dataframe thead th {\n",
       "        text-align: right;\n",
       "    }\n",
       "</style>\n",
       "<table border=\"1\" class=\"dataframe\">\n",
       "  <thead>\n",
       "    <tr style=\"text-align: right;\">\n",
       "      <th></th>\n",
       "      <th>MPG</th>\n",
       "      <th>Cylinders</th>\n",
       "      <th>Displacement</th>\n",
       "      <th>Horsepower</th>\n",
       "      <th>Weight</th>\n",
       "      <th>Acceleration</th>\n",
       "      <th>Model Year</th>\n",
       "      <th>Origin</th>\n",
       "    </tr>\n",
       "  </thead>\n",
       "  <tbody>\n",
       "    <tr>\n",
       "      <th>393</th>\n",
       "      <td>27.0</td>\n",
       "      <td>4</td>\n",
       "      <td>140.0</td>\n",
       "      <td>86.0</td>\n",
       "      <td>2790.0</td>\n",
       "      <td>15.6</td>\n",
       "      <td>82</td>\n",
       "      <td>1</td>\n",
       "    </tr>\n",
       "    <tr>\n",
       "      <th>394</th>\n",
       "      <td>44.0</td>\n",
       "      <td>4</td>\n",
       "      <td>97.0</td>\n",
       "      <td>52.0</td>\n",
       "      <td>2130.0</td>\n",
       "      <td>24.6</td>\n",
       "      <td>82</td>\n",
       "      <td>2</td>\n",
       "    </tr>\n",
       "    <tr>\n",
       "      <th>395</th>\n",
       "      <td>32.0</td>\n",
       "      <td>4</td>\n",
       "      <td>135.0</td>\n",
       "      <td>84.0</td>\n",
       "      <td>2295.0</td>\n",
       "      <td>11.6</td>\n",
       "      <td>82</td>\n",
       "      <td>1</td>\n",
       "    </tr>\n",
       "    <tr>\n",
       "      <th>396</th>\n",
       "      <td>28.0</td>\n",
       "      <td>4</td>\n",
       "      <td>120.0</td>\n",
       "      <td>79.0</td>\n",
       "      <td>2625.0</td>\n",
       "      <td>18.6</td>\n",
       "      <td>82</td>\n",
       "      <td>1</td>\n",
       "    </tr>\n",
       "    <tr>\n",
       "      <th>397</th>\n",
       "      <td>31.0</td>\n",
       "      <td>4</td>\n",
       "      <td>119.0</td>\n",
       "      <td>82.0</td>\n",
       "      <td>2720.0</td>\n",
       "      <td>19.4</td>\n",
       "      <td>82</td>\n",
       "      <td>1</td>\n",
       "    </tr>\n",
       "  </tbody>\n",
       "</table>\n",
       "</div>"
      ],
      "text/plain": [
       "      MPG  Cylinders  Displacement  Horsepower  Weight  Acceleration   \n",
       "393  27.0          4         140.0        86.0  2790.0          15.6  \\\n",
       "394  44.0          4          97.0        52.0  2130.0          24.6   \n",
       "395  32.0          4         135.0        84.0  2295.0          11.6   \n",
       "396  28.0          4         120.0        79.0  2625.0          18.6   \n",
       "397  31.0          4         119.0        82.0  2720.0          19.4   \n",
       "\n",
       "     Model Year  Origin  \n",
       "393          82       1  \n",
       "394          82       2  \n",
       "395          82       1  \n",
       "396          82       1  \n",
       "397          82       1  "
      ]
     },
     "execution_count": 3,
     "metadata": {},
     "output_type": "execute_result"
    }
   ],
   "source": [
    "dataset = raw_dataset.copy()\n",
    "dataset.tail()"
   ]
  },
  {
   "attachments": {},
   "cell_type": "markdown",
   "metadata": {},
   "source": [
    "Prepare data"
   ]
  },
  {
   "cell_type": "code",
   "execution_count": 4,
   "metadata": {},
   "outputs": [],
   "source": [
    "# Drop missing values\n",
    "dataset = dataset.dropna()\n",
    "\n",
    "# Convert Origin to Numeric\n",
    "dataset['Origin'] = dataset['Origin'].map({1: 'USA', 2: 'Europe', 3: 'Japan'})\n",
    "dataset = pd.get_dummies(dataset, columns=['Origin'], prefix='', prefix_sep='')\n",
    "dataset['Europe'] = dataset['Europe'].apply(int)\n",
    "dataset['Japan'] = dataset['Japan'].apply(int)\n",
    "dataset['USA'] = dataset['USA'].apply(int)\n",
    "dataset.tail()\n",
    "\n",
    "# Split dataset into inputs and labels\n",
    "X = dataset.iloc[:, 1:].values\n",
    "y = dataset.iloc[:, 0].values\n",
    "\n",
    "# Normalize inputs\n",
    "X = (X - np.mean(X, axis=0)) / np.std(X, axis=0)\n",
    "\n",
    "# Convert numpy arrays to tensors\n",
    "X = torch.tensor(X, dtype=torch.float32)\n",
    "y = torch.tensor(y, dtype=torch.float32)\n",
    "\n",
    "# Create dataset and dataloader\n",
    "dataset = torch.utils.data.TensorDataset(X, y)\n",
    "trainloader = torch.utils.data.DataLoader(dataset, batch_size=32, shuffle=True)"
   ]
  },
  {
   "attachments": {},
   "cell_type": "markdown",
   "metadata": {},
   "source": [
    "Neural Network #1"
   ]
  },
  {
   "cell_type": "code",
   "execution_count": 5,
   "metadata": {},
   "outputs": [],
   "source": [
    "class RegressionModel1(torch.nn.Module):\n",
    "    def __init__(self,input_size):\n",
    "        super(RegressionModel1, self).__init__()\n",
    "        self.layer1=torch.nn.Linear(input_size, 1)\n",
    "\n",
    "    def forward(self,x):\n",
    "        x=self.layer1(x)\n",
    "        return x\n",
    "\n",
    "nnet=RegressionModel1(9)"
   ]
  },
  {
   "cell_type": "code",
   "execution_count": 6,
   "metadata": {},
   "outputs": [
    {
     "name": "stderr",
     "output_type": "stream",
     "text": [
      "/Users/grad/opt/anaconda3/envs/pt2/lib/python3.8/site-packages/torchinfo/torchinfo.py:477: UserWarning: TypedStorage is deprecated. It will be removed in the future and UntypedStorage will be the only storage class. This should only matter to you if you are using storages directly.  To access UntypedStorage directly, use tensor.untyped_storage() instead of tensor.storage()\n",
      "  action_fn=lambda data: sys.getsizeof(data.storage()),\n",
      "/Users/grad/opt/anaconda3/envs/pt2/lib/python3.8/site-packages/torch/storage.py:665: UserWarning: TypedStorage is deprecated. It will be removed in the future and UntypedStorage will be the only storage class. This should only matter to you if you are using storages directly.  To access UntypedStorage directly, use tensor.untyped_storage() instead of tensor.storage()\n",
      "  return super().__sizeof__() + self.nbytes()\n"
     ]
    },
    {
     "data": {
      "text/plain": [
       "==========================================================================================\n",
       "Layer (type:depth-idx)                   Output Shape              Param #\n",
       "==========================================================================================\n",
       "RegressionModel1                         [32, 1]                   --\n",
       "├─Linear: 1-1                            [32, 1]                   10\n",
       "==========================================================================================\n",
       "Total params: 10\n",
       "Trainable params: 10\n",
       "Non-trainable params: 0\n",
       "Total mult-adds (M): 0.00\n",
       "==========================================================================================\n",
       "Input size (MB): 0.00\n",
       "Forward/backward pass size (MB): 0.00\n",
       "Params size (MB): 0.00\n",
       "Estimated Total Size (MB): 0.00\n",
       "=========================================================================================="
      ]
     },
     "execution_count": 6,
     "metadata": {},
     "output_type": "execute_result"
    }
   ],
   "source": [
    "from torchinfo import summary\n",
    "\n",
    "batch_size= 32\n",
    "\n",
    "summary(nnet, input_size=(batch_size,9),device='cpu')"
   ]
  },
  {
   "cell_type": "code",
   "execution_count": 7,
   "metadata": {},
   "outputs": [],
   "source": [
    "import torch.optim as optim\n",
    "\n",
    "criterion = torch.nn.MSELoss()\n",
    "optimizer= torch.optim.SGD(nnet.parameters(), lr=0.01)"
   ]
  },
  {
   "cell_type": "code",
   "execution_count": 8,
   "metadata": {},
   "outputs": [
    {
     "name": "stdout",
     "output_type": "stream",
     "text": [
      "[1,    12] loss: 466.270\n",
      "[2,    12] loss: 275.482\n",
      "[3,    12] loss: 166.905\n",
      "[4,    12] loss: 104.194\n",
      "[5,    12] loss: 65.999\n",
      "[6,    12] loss: 44.485\n",
      "[7,    12] loss: 31.322\n",
      "[8,    12] loss: 23.604\n",
      "[9,    12] loss: 18.753\n",
      "[10,    12] loss: 16.228\n",
      "[11,    12] loss: 14.625\n",
      "[12,    12] loss: 13.732\n",
      "[13,    12] loss: 13.035\n",
      "[14,    12] loss: 12.732\n",
      "[15,    12] loss: 12.542\n",
      "[16,    12] loss: 12.110\n",
      "[17,    12] loss: 12.180\n",
      "[18,    12] loss: 11.998\n",
      "[19,    12] loss: 11.850\n",
      "[20,    12] loss: 11.932\n",
      "Finished Training\n"
     ]
    }
   ],
   "source": [
    "# Define an empty list to store the loss values\n",
    "loss_list1 = []\n",
    "\n",
    "for epoch in range(20):\n",
    "    running_loss = 0.0\n",
    "    for i, data in enumerate(trainloader, 0):\n",
    "        #get inputs\n",
    "        inputs, labels = data\n",
    "        \n",
    "        #zero parameter gradients\n",
    "        optimizer.zero_grad()\n",
    "\n",
    "        #forward, backward, optimize\n",
    "        outputs = nnet(inputs)\n",
    "        loss=criterion(outputs,labels.view(-1, 1))\n",
    "        loss.backward()\n",
    "        optimizer.step()\n",
    "\n",
    "        #print\n",
    "        running_loss += loss.item()\n",
    "        if i % 12 == 11:\n",
    "            print(f'[{epoch + 1}, {i+1:5d}] loss: {running_loss / 12:.3f}')\n",
    "            running_loss=0.0\n",
    "            \n",
    "    loss_list1.append(running_loss / len(trainloader))\n",
    "print('Finished Training')\n"
   ]
  },
  {
   "attachments": {},
   "cell_type": "markdown",
   "metadata": {},
   "source": [
    "Accuracy"
   ]
  },
  {
   "cell_type": "code",
   "execution_count": 9,
   "metadata": {},
   "outputs": [
    {
     "name": "stdout",
     "output_type": "stream",
     "text": [
      "Approx. accuracy of the network: 87.50 %\n"
     ]
    }
   ],
   "source": [
    "correct = 0\n",
    "total = 0\n",
    "with torch.no_grad():\n",
    "    for data in trainloader:\n",
    "        # get inputs\n",
    "        inputs, labels = data\n",
    "\n",
    "        outputs = nnet(inputs)\n",
    "        for i in range(len(labels)):\n",
    "            if abs(outputs[i].item() - labels[i]) <= 5:\n",
    "                correct += 1\n",
    "            total += 1\n",
    "acc1=100*correct/total\n",
    "print(f'Approx. accuracy of the network: {100*correct/total:.2f} %')\n"
   ]
  },
  {
   "attachments": {},
   "cell_type": "markdown",
   "metadata": {},
   "source": [
    "Plot loss"
   ]
  },
  {
   "cell_type": "code",
   "execution_count": 10,
   "metadata": {},
   "outputs": [
    {
     "data": {
      "image/png": "[encoded data removed]",
      "text/plain": [
       "<Figure size 640x480 with 1 Axes>"
      ]
     },
     "metadata": {},
     "output_type": "display_data"
    }
   ],
   "source": [
    "plt.plot(loss_list1, 'r')\n",
    "plt.tight_layout()\n",
    "plt.grid(True,color='y')\n",
    "plt.xlabel(\"Epochs\")\n",
    "plt.ylabel(\"Loss\")\n",
    "plt.show()"
   ]
  },
  {
   "attachments": {},
   "cell_type": "markdown",
   "metadata": {},
   "source": [
    "Neural Network #2"
   ]
  },
  {
   "cell_type": "code",
   "execution_count": 11,
   "metadata": {},
   "outputs": [],
   "source": [
    "class RegressionModel2(torch.nn.Module):\n",
    "    def __init__(self,input_size):\n",
    "        super(RegressionModel2, self).__init__()\n",
    "        self.layer1=torch.nn.Linear(input_size, 10)\n",
    "        self.layer2=torch.nn.Linear(10,20)\n",
    "        self.layer3=torch.nn.Linear(20,10)\n",
    "        self.layer4=torch.nn.Linear(10,1)\n",
    "        self.activation=torch.nn.ReLU()\n",
    "\n",
    "    def forward(self,x):\n",
    "        x=self.layer1(x)\n",
    "        x=self.activation(x)\n",
    "        x=self.layer2(x)\n",
    "        x=self.activation(x)\n",
    "        x=self.layer3(x)\n",
    "        x=self.activation(x)\n",
    "        x=self.layer4(x)\n",
    "        return x\n",
    "\n",
    "nnet2=RegressionModel2(9)"
   ]
  },
  {
   "cell_type": "code",
   "execution_count": 12,
   "metadata": {},
   "outputs": [
    {
     "data": {
      "text/plain": [
       "==========================================================================================\n",
       "Layer (type:depth-idx)                   Output Shape              Param #\n",
       "==========================================================================================\n",
       "RegressionModel2                         [32, 1]                   --\n",
       "├─Linear: 1-1                            [32, 10]                  100\n",
       "├─ReLU: 1-2                              [32, 10]                  --\n",
       "├─Linear: 1-3                            [32, 20]                  220\n",
       "├─ReLU: 1-4                              [32, 20]                  --\n",
       "├─Linear: 1-5                            [32, 10]                  210\n",
       "├─ReLU: 1-6                              [32, 10]                  --\n",
       "├─Linear: 1-7                            [32, 1]                   11\n",
       "==========================================================================================\n",
       "Total params: 541\n",
       "Trainable params: 541\n",
       "Non-trainable params: 0\n",
       "Total mult-adds (M): 0.02\n",
       "==========================================================================================\n",
       "Input size (MB): 0.00\n",
       "Forward/backward pass size (MB): 0.01\n",
       "Params size (MB): 0.00\n",
       "Estimated Total Size (MB): 0.01\n",
       "=========================================================================================="
      ]
     },
     "execution_count": 12,
     "metadata": {},
     "output_type": "execute_result"
    }
   ],
   "source": [
    "batch_size= 32\n",
    "\n",
    "summary(nnet2, input_size=(batch_size,9),device='cpu')"
   ]
  },
  {
   "cell_type": "code",
   "execution_count": 13,
   "metadata": {},
   "outputs": [],
   "source": [
    "criterion = torch.nn.MSELoss()\n",
    "optimizer= torch.optim.SGD(nnet2.parameters(), lr=0.01)"
   ]
  },
  {
   "cell_type": "code",
   "execution_count": 14,
   "metadata": {},
   "outputs": [
    {
     "name": "stdout",
     "output_type": "stream",
     "text": [
      "[1,    12] loss: 454.221\n",
      "[2,    12] loss: 125.184\n",
      "[3,    12] loss: 43.113\n",
      "[4,    12] loss: 24.932\n",
      "[5,    12] loss: 30.737\n",
      "[6,    12] loss: 14.728\n",
      "[7,    12] loss: 12.927\n",
      "[8,    12] loss: 14.305\n",
      "[9,    12] loss: 19.893\n",
      "[10,    12] loss: 14.060\n",
      "[11,    12] loss: 17.055\n",
      "[12,    12] loss: 10.005\n",
      "[13,    12] loss: 15.467\n",
      "[14,    12] loss: 9.313\n",
      "[15,    12] loss: 8.683\n",
      "[16,    12] loss: 10.225\n",
      "[17,    12] loss: 9.303\n",
      "[18,    12] loss: 11.383\n",
      "[19,    12] loss: 10.719\n",
      "[20,    12] loss: 8.651\n",
      "Finished Training\n"
     ]
    }
   ],
   "source": [
    "# Define an empty list to store the loss values\n",
    "loss_list2 = []\n",
    "\n",
    "for epoch in range(20):\n",
    "    running_loss = 0.0\n",
    "    for i, data in enumerate(trainloader, 0):\n",
    "        #get inputs\n",
    "        inputs, labels = data\n",
    "        \n",
    "        #zero parameter gradients\n",
    "        optimizer.zero_grad()\n",
    "\n",
    "        #forward, backward, optimize\n",
    "        outputs = nnet2(inputs)\n",
    "        loss=criterion(outputs,labels.view(-1, 1))\n",
    "        loss.backward()\n",
    "        optimizer.step()\n",
    "\n",
    "        #print\n",
    "        running_loss += loss.item()\n",
    "        if i % 12 == 11:\n",
    "            print(f'[{epoch + 1}, {i+1:5d}] loss: {running_loss / 12:.3f}')\n",
    "            running_loss=0.0\n",
    "            \n",
    "    loss_list2.append(running_loss / len(trainloader))\n",
    "print('Finished Training')\n"
   ]
  },
  {
   "attachments": {},
   "cell_type": "markdown",
   "metadata": {},
   "source": [
    "Accuracy"
   ]
  },
  {
   "cell_type": "code",
   "execution_count": 15,
   "metadata": {},
   "outputs": [
    {
     "name": "stdout",
     "output_type": "stream",
     "text": [
      "Approx. accuracy of the network: 85.20 %\n"
     ]
    }
   ],
   "source": [
    "correct = 0\n",
    "total = 0\n",
    "with torch.no_grad():\n",
    "    for data in trainloader:\n",
    "        # get inputs\n",
    "        inputs, labels = data\n",
    "\n",
    "        outputs = nnet2(inputs)\n",
    "        for i in range(len(labels)):\n",
    "            if abs(outputs[i].item() - labels[i]) <= 5:\n",
    "                correct += 1\n",
    "            total += 1\n",
    "acc2=100*correct/total\n",
    "print(f'Approx. accuracy of the network: {100*correct/total:.2f} %')\n"
   ]
  },
  {
   "attachments": {},
   "cell_type": "markdown",
   "metadata": {},
   "source": [
    "Plot loss"
   ]
  },
  {
   "cell_type": "code",
   "execution_count": 16,
   "metadata": {},
   "outputs": [
    {
     "data": {
      "image/png": "[encoded data removed]",
      "text/plain": [
       "<Figure size 640x480 with 1 Axes>"
      ]
     },
     "metadata": {},
     "output_type": "display_data"
    }
   ],
   "source": [
    "plt.plot(loss_list2, 'r')\n",
    "plt.tight_layout()\n",
    "plt.grid(True,color='y')\n",
    "plt.xlabel(\"Epochs\")\n",
    "plt.ylabel(\"Loss\")\n",
    "plt.show()"
   ]
  },
  {
   "attachments": {},
   "cell_type": "markdown",
   "metadata": {},
   "source": [
    "Neural Network #3"
   ]
  },
  {
   "cell_type": "code",
   "execution_count": 17,
   "metadata": {},
   "outputs": [],
   "source": [
    "class RegressionModel3(torch.nn.Module):\n",
    "    def __init__(self,input_size):\n",
    "        super(RegressionModel3, self).__init__()\n",
    "        self.layer1=torch.nn.Linear(input_size, 10)\n",
    "        self.layer2=torch.nn.Linear(10,20)\n",
    "        self.layer3=torch.nn.Linear(20,30)\n",
    "        self.layer4=torch.nn.Linear(30,20)\n",
    "        self.layer5=torch.nn.Linear(20,1)\n",
    "        self.activation=torch.nn.ReLU()\n",
    "\n",
    "    def forward(self,x):\n",
    "        x=self.layer1(x)\n",
    "        x=self.activation(x)\n",
    "        x=self.layer2(x)\n",
    "        x=self.activation(x)\n",
    "        x=self.layer3(x)\n",
    "        x=self.activation(x)\n",
    "        x=self.layer4(x)\n",
    "        x=self.activation(x)\n",
    "        x=self.layer5(x)\n",
    "        return x\n",
    "\n",
    "nnet3=RegressionModel3(9)"
   ]
  },
  {
   "cell_type": "code",
   "execution_count": 18,
   "metadata": {},
   "outputs": [
    {
     "data": {
      "text/plain": [
       "==========================================================================================\n",
       "Layer (type:depth-idx)                   Output Shape              Param #\n",
       "==========================================================================================\n",
       "RegressionModel3                         [32, 1]                   --\n",
       "├─Linear: 1-1                            [32, 10]                  100\n",
       "├─ReLU: 1-2                              [32, 10]                  --\n",
       "├─Linear: 1-3                            [32, 20]                  220\n",
       "├─ReLU: 1-4                              [32, 20]                  --\n",
       "├─Linear: 1-5                            [32, 30]                  630\n",
       "├─ReLU: 1-6                              [32, 30]                  --\n",
       "├─Linear: 1-7                            [32, 20]                  620\n",
       "├─ReLU: 1-8                              [32, 20]                  --\n",
       "├─Linear: 1-9                            [32, 1]                   21\n",
       "==========================================================================================\n",
       "Total params: 1,591\n",
       "Trainable params: 1,591\n",
       "Non-trainable params: 0\n",
       "Total mult-adds (M): 0.05\n",
       "==========================================================================================\n",
       "Input size (MB): 0.00\n",
       "Forward/backward pass size (MB): 0.02\n",
       "Params size (MB): 0.01\n",
       "Estimated Total Size (MB): 0.03\n",
       "=========================================================================================="
      ]
     },
     "execution_count": 18,
     "metadata": {},
     "output_type": "execute_result"
    }
   ],
   "source": [
    "batch_size= 32\n",
    "\n",
    "summary(nnet3, input_size=(batch_size,9),device='cpu')"
   ]
  },
  {
   "cell_type": "code",
   "execution_count": 19,
   "metadata": {},
   "outputs": [],
   "source": [
    "criterion = torch.nn.MSELoss()\n",
    "optimizer= torch.optim.SGD(nnet3.parameters(), lr=0.01)"
   ]
  },
  {
   "cell_type": "code",
   "execution_count": 20,
   "metadata": {},
   "outputs": [
    {
     "name": "stdout",
     "output_type": "stream",
     "text": [
      "[1,    12] loss: 324.138\n",
      "[2,    12] loss: 144.019\n",
      "[3,    12] loss: 363.977\n",
      "[4,    12] loss: 193.259\n",
      "[5,    12] loss: 61.143\n",
      "[6,    12] loss: 60.373\n",
      "[7,    12] loss: 44.558\n",
      "[8,    12] loss: 63.666\n",
      "[9,    12] loss: 23.993\n",
      "[10,    12] loss: 21.242\n",
      "[11,    12] loss: 27.382\n",
      "[12,    12] loss: 28.412\n",
      "[13,    12] loss: 24.772\n",
      "[14,    12] loss: 26.641\n",
      "[15,    12] loss: 23.470\n",
      "[16,    12] loss: 16.250\n",
      "[17,    12] loss: 28.098\n",
      "[18,    12] loss: 22.949\n",
      "[19,    12] loss: 17.609\n",
      "[20,    12] loss: 20.560\n",
      "Finished Training\n"
     ]
    }
   ],
   "source": [
    "# Define an empty list to store the loss values\n",
    "loss_list3 = []\n",
    "\n",
    "for epoch in range(20):\n",
    "    running_loss = 0.0\n",
    "    for i, data in enumerate(trainloader, 0):\n",
    "        #get inputs\n",
    "        inputs, labels = data\n",
    "        \n",
    "        #zero parameter gradients\n",
    "        optimizer.zero_grad()\n",
    "\n",
    "        #forward, backward, optimize\n",
    "        outputs = nnet3(inputs)\n",
    "        loss=criterion(outputs,labels.view(-1, 1))\n",
    "        loss.backward()\n",
    "        optimizer.step()\n",
    "\n",
    "        #print\n",
    "        running_loss += loss.item()\n",
    "        if i % 12 == 11:\n",
    "            print(f'[{epoch + 1}, {i+1:5d}] loss: {running_loss / 12:.3f}')\n",
    "            running_loss=0.0\n",
    "            \n",
    "    loss_list3.append(running_loss / len(trainloader))\n",
    "print('Finished Training')\n"
   ]
  },
  {
   "attachments": {},
   "cell_type": "markdown",
   "metadata": {},
   "source": [
    "Accuracy"
   ]
  },
  {
   "cell_type": "code",
   "execution_count": 21,
   "metadata": {},
   "outputs": [
    {
     "name": "stdout",
     "output_type": "stream",
     "text": [
      "Approx. accuracy of the network: 87.24 %\n"
     ]
    }
   ],
   "source": [
    "correct = 0\n",
    "total = 0\n",
    "with torch.no_grad():\n",
    "    for data in trainloader:\n",
    "        # get inputs\n",
    "        inputs, labels = data\n",
    "\n",
    "        outputs = nnet3(inputs)\n",
    "        for i in range(len(labels)):\n",
    "            if abs(outputs[i].item() - labels[i]) <= 5:\n",
    "                correct += 1\n",
    "            total += 1\n",
    "acc3=100*correct/total\n",
    "print(f'Approx. accuracy of the network: {100*correct/total:.2f} %')\n"
   ]
  },
  {
   "attachments": {},
   "cell_type": "markdown",
   "metadata": {},
   "source": [
    "Plot loss"
   ]
  },
  {
   "cell_type": "code",
   "execution_count": 22,
   "metadata": {},
   "outputs": [
    {
     "data": {
      "image/png": "[encoded data removed]",
      "text/plain": [
       "<Figure size 640x480 with 1 Axes>"
      ]
     },
     "metadata": {},
     "output_type": "display_data"
    }
   ],
   "source": [
    "plt.plot(loss_list3, 'r')\n",
    "plt.tight_layout()\n",
    "plt.grid(True,color='y')\n",
    "plt.xlabel(\"Epochs\")\n",
    "plt.ylabel(\"Loss\")\n",
    "plt.show()"
   ]
  },
  {
   "attachments": {},
   "cell_type": "markdown",
   "metadata": {},
   "source": [
    "Comparison between models"
   ]
  },
  {
   "cell_type": "code",
   "execution_count": 23,
   "metadata": {},
   "outputs": [
    {
     "data": {
      "image/png": "[encoded data removed]",
      "text/plain": [
       "<Figure size 640x480 with 1 Axes>"
      ]
     },
     "metadata": {},
     "output_type": "display_data"
    }
   ],
   "source": [
    "plt.plot(loss_list1, 'r', label='nnet1')\n",
    "plt.plot(loss_list2, 'b', label='nnet2')\n",
    "plt.plot(loss_list3, 'g', label='nnet3')\n",
    "plt.tight_layout()\n",
    "plt.grid(True,color='y')\n",
    "plt.xlabel(\"Epochs\")\n",
    "plt.ylabel(\"Loss\")\n",
    "plt.legend()\n",
    "plt.show()"
   ]
  },
  {
   "cell_type": "code",
   "execution_count": 24,
   "metadata": {},
   "outputs": [
    {
     "name": "stdout",
     "output_type": "stream",
     "text": [
      "NNet1 Accuracy:  87.5\n",
      "NNet2 Accuracy:  85.20408163265306\n",
      "NNet3 Accuracy:  87.24489795918367\n"
     ]
    }
   ],
   "source": [
    "print(\"NNet1 Accuracy: \", acc1)\n",
    "print(\"NNet2 Accuracy: \", acc2)\n",
    "print(\"NNet3 Accuracy: \", acc3)"
   ]
  },
  {
   "attachments": {},
   "cell_type": "markdown",
   "metadata": {},
   "source": [
    "We are going to answer the following question:\n",
    "\n",
    "i) Which of the three models had the least amount of error for validation? \n",
    "\n",
    "Taking into consideration the approximate accuracy of each network, and analyzing the graphs, the model nominated RegressionModel1 has the best results. Note that model RegressionModel2 has the quickest convergence, but it doesn't reach lower values of loss, and if it does, it alternates between them (although not as noticeable as RegressionModel3), where RegressionModel1 remains relatively constant. RegressionModel3 seems to converge, but alternates significantly in terms of the loss, which might indicate a potential problem of vanishing/exploding gradient.\n",
    "\n",
    "\n",
    "ii) How long it took to train each model?\n",
    "\n",
    "All models took 0.2s.\n"
   ]
  }
 ],
 "metadata": {
  "kernelspec": {
   "display_name": "pt2",
   "language": "python",
   "name": "python3"
  },
  "language_info": {
   "codemirror_mode": {
    "name": "ipython",
    "version": 3
   },
   "file_extension": ".py",
   "mimetype": "text/x-python",
   "name": "python",
   "nbconvert_exporter": "python",
   "pygments_lexer": "ipython3",
   "version": "3.8.16"
  },
  "orig_nbformat": 4,
  "vscode": {
   "interpreter": {
    "hash": "41f1c4a868665ab30129229456688dc247c5fc981639cb181a5cf5c621839270"
   }
  }
 },
 "nbformat": 4,
 "nbformat_minor": 2
}
